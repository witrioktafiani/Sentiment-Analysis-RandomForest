{
 "cells": [
  {
   "cell_type": "markdown",
   "id": "d9d95991",
   "metadata": {
    "papermill": {
     "duration": 0.008641,
     "end_time": "2023-04-02T02:53:22.157209",
     "exception": false,
     "start_time": "2023-04-02T02:53:22.148568",
     "status": "completed"
    },
    "tags": []
   },
   "source": [
    "# 1 Dataset"
   ]
  },
  {
   "cell_type": "code",
   "execution_count": 1,
   "id": "99b2bd71",
   "metadata": {
    "execution": {
     "iopub.execute_input": "2023-04-02T02:53:22.174491Z",
     "iopub.status.busy": "2023-04-02T02:53:22.173779Z",
     "iopub.status.idle": "2023-04-02T02:53:23.833484Z",
     "shell.execute_reply": "2023-04-02T02:53:23.831534Z"
    },
    "papermill": {
     "duration": 1.671967,
     "end_time": "2023-04-02T02:53:23.836671",
     "exception": false,
     "start_time": "2023-04-02T02:53:22.164704",
     "status": "completed"
    },
    "tags": []
   },
   "outputs": [],
   "source": [
    "import pandas as pd\n",
    "import matplotlib.pyplot as plt\n",
    "import re\n",
    "import nltk"
   ]
  },
  {
   "cell_type": "code",
   "execution_count": 2,
   "id": "67eef003",
   "metadata": {
    "execution": {
     "iopub.execute_input": "2023-04-02T02:53:23.854842Z",
     "iopub.status.busy": "2023-04-02T02:53:23.854367Z",
     "iopub.status.idle": "2023-04-02T02:53:24.740537Z",
     "shell.execute_reply": "2023-04-02T02:53:24.739295Z"
    },
    "papermill": {
     "duration": 0.898911,
     "end_time": "2023-04-02T02:53:24.743874",
     "exception": false,
     "start_time": "2023-04-02T02:53:23.844963",
     "status": "completed"
    },
    "tags": []
   },
   "outputs": [
    {
     "data": {
      "text/html": [
       "<div>\n",
       "<style scoped>\n",
       "    .dataframe tbody tr th:only-of-type {\n",
       "        vertical-align: middle;\n",
       "    }\n",
       "\n",
       "    .dataframe tbody tr th {\n",
       "        vertical-align: top;\n",
       "    }\n",
       "\n",
       "    .dataframe thead th {\n",
       "        text-align: right;\n",
       "    }\n",
       "</style>\n",
       "<table border=\"1\" class=\"dataframe\">\n",
       "  <thead>\n",
       "    <tr style=\"text-align: right;\">\n",
       "      <th></th>\n",
       "      <th>File Name</th>\n",
       "      <th>Caption</th>\n",
       "      <th>LABEL</th>\n",
       "    </tr>\n",
       "  </thead>\n",
       "  <tbody>\n",
       "    <tr>\n",
       "      <th>0</th>\n",
       "      <td>1.txt</td>\n",
       "      <td>How I feel today #legday #jelly #aching #gym</td>\n",
       "      <td>negative</td>\n",
       "    </tr>\n",
       "    <tr>\n",
       "      <th>1</th>\n",
       "      <td>10.txt</td>\n",
       "      <td>@ArrivaTW absolute disgrace two carriages from...</td>\n",
       "      <td>negative</td>\n",
       "    </tr>\n",
       "    <tr>\n",
       "      <th>2</th>\n",
       "      <td>100.txt</td>\n",
       "      <td>This is my Valentine's from 1 of my nephews. I...</td>\n",
       "      <td>positive</td>\n",
       "    </tr>\n",
       "    <tr>\n",
       "      <th>3</th>\n",
       "      <td>1000.txt</td>\n",
       "      <td>betterfeelingfilms: RT via Instagram: First da...</td>\n",
       "      <td>neutral</td>\n",
       "    </tr>\n",
       "    <tr>\n",
       "      <th>4</th>\n",
       "      <td>1001.txt</td>\n",
       "      <td>Zoe's first love #Rattled @JohnnyHarper15</td>\n",
       "      <td>positive</td>\n",
       "    </tr>\n",
       "    <tr>\n",
       "      <th>...</th>\n",
       "      <td>...</td>\n",
       "      <td>...</td>\n",
       "      <td>...</td>\n",
       "    </tr>\n",
       "    <tr>\n",
       "      <th>4864</th>\n",
       "      <td>995.txt</td>\n",
       "      <td>OMG. Well done #Eskom! 'Man dies during #LoadS...</td>\n",
       "      <td>positive</td>\n",
       "    </tr>\n",
       "    <tr>\n",
       "      <th>4865</th>\n",
       "      <td>996.txt</td>\n",
       "      <td>Feelin' the love in here! #ValentinesDay #caring</td>\n",
       "      <td>positive</td>\n",
       "    </tr>\n",
       "    <tr>\n",
       "      <th>4866</th>\n",
       "      <td>997.txt</td>\n",
       "      <td>#blue #eyes can't be #beaten</td>\n",
       "      <td>neutral</td>\n",
       "    </tr>\n",
       "    <tr>\n",
       "      <th>4867</th>\n",
       "      <td>998.txt</td>\n",
       "      <td>LA CHUCHA LOUUU TE CHUPO LOS OJOS..!</td>\n",
       "      <td>neutral</td>\n",
       "    </tr>\n",
       "    <tr>\n",
       "      <th>4868</th>\n",
       "      <td>999.txt</td>\n",
       "      <td>#colorsplash_bw #zealous Remedios #herbales y ...</td>\n",
       "      <td>positive</td>\n",
       "    </tr>\n",
       "  </tbody>\n",
       "</table>\n",
       "<p>4869 rows × 3 columns</p>\n",
       "</div>"
      ],
      "text/plain": [
       "     File Name                                            Caption     LABEL\n",
       "0        1.txt      How I feel today #legday #jelly #aching #gym   negative\n",
       "1       10.txt  @ArrivaTW absolute disgrace two carriages from...  negative\n",
       "2      100.txt  This is my Valentine's from 1 of my nephews. I...  positive\n",
       "3     1000.txt  betterfeelingfilms: RT via Instagram: First da...   neutral\n",
       "4     1001.txt         Zoe's first love #Rattled @JohnnyHarper15   positive\n",
       "...        ...                                                ...       ...\n",
       "4864   995.txt  OMG. Well done #Eskom! 'Man dies during #LoadS...  positive\n",
       "4865   996.txt  Feelin' the love in here! #ValentinesDay #caring   positive\n",
       "4866   997.txt                      #blue #eyes can't be #beaten    neutral\n",
       "4867   998.txt              LA CHUCHA LOUUU TE CHUPO LOS OJOS..!    neutral\n",
       "4868   999.txt  #colorsplash_bw #zealous Remedios #herbales y ...  positive\n",
       "\n",
       "[4869 rows x 3 columns]"
      ]
     },
     "execution_count": 2,
     "metadata": {},
     "output_type": "execute_result"
    }
   ],
   "source": [
    "data = pd.read_excel('/kaggle/input/twitter-dataset-for-sentiment-analysis/LabeledText.xlsx')\n",
    "data"
   ]
  },
  {
   "cell_type": "code",
   "execution_count": 3,
   "id": "14931a52",
   "metadata": {
    "execution": {
     "iopub.execute_input": "2023-04-02T02:53:24.761578Z",
     "iopub.status.busy": "2023-04-02T02:53:24.760485Z",
     "iopub.status.idle": "2023-04-02T02:53:24.772501Z",
     "shell.execute_reply": "2023-04-02T02:53:24.771110Z"
    },
    "papermill": {
     "duration": 0.02415,
     "end_time": "2023-04-02T02:53:24.775609",
     "exception": false,
     "start_time": "2023-04-02T02:53:24.751459",
     "status": "completed"
    },
    "tags": []
   },
   "outputs": [
    {
     "data": {
      "text/plain": [
       "File Name    0\n",
       "Caption      0\n",
       "LABEL        0\n",
       "dtype: int64"
      ]
     },
     "execution_count": 3,
     "metadata": {},
     "output_type": "execute_result"
    }
   ],
   "source": [
    "data.isnull().sum()"
   ]
  },
  {
   "cell_type": "code",
   "execution_count": 4,
   "id": "89e65579",
   "metadata": {
    "execution": {
     "iopub.execute_input": "2023-04-02T02:53:24.793641Z",
     "iopub.status.busy": "2023-04-02T02:53:24.792565Z",
     "iopub.status.idle": "2023-04-02T02:53:24.816761Z",
     "shell.execute_reply": "2023-04-02T02:53:24.815489Z"
    },
    "papermill": {
     "duration": 0.035902,
     "end_time": "2023-04-02T02:53:24.819298",
     "exception": false,
     "start_time": "2023-04-02T02:53:24.783396",
     "status": "completed"
    },
    "tags": []
   },
   "outputs": [
    {
     "name": "stdout",
     "output_type": "stream",
     "text": [
      "<class 'pandas.core.frame.DataFrame'>\n",
      "RangeIndex: 4869 entries, 0 to 4868\n",
      "Data columns (total 3 columns):\n",
      " #   Column     Non-Null Count  Dtype \n",
      "---  ------     --------------  ----- \n",
      " 0   File Name  4869 non-null   object\n",
      " 1   Caption    4869 non-null   object\n",
      " 2   LABEL      4869 non-null   object\n",
      "dtypes: object(3)\n",
      "memory usage: 114.2+ KB\n"
     ]
    }
   ],
   "source": [
    "data.info()"
   ]
  },
  {
   "cell_type": "code",
   "execution_count": 5,
   "id": "feab408b",
   "metadata": {
    "execution": {
     "iopub.execute_input": "2023-04-02T02:53:24.837408Z",
     "iopub.status.busy": "2023-04-02T02:53:24.836704Z",
     "iopub.status.idle": "2023-04-02T02:53:24.844863Z",
     "shell.execute_reply": "2023-04-02T02:53:24.843991Z"
    },
    "papermill": {
     "duration": 0.020091,
     "end_time": "2023-04-02T02:53:24.847336",
     "exception": false,
     "start_time": "2023-04-02T02:53:24.827245",
     "status": "completed"
    },
    "tags": []
   },
   "outputs": [],
   "source": [
    "drop_neutral = data[ data['LABEL'] == 'neutral' ].index\n",
    "data.drop(drop_neutral, inplace = True)"
   ]
  },
  {
   "cell_type": "code",
   "execution_count": 6,
   "id": "152655a2",
   "metadata": {
    "execution": {
     "iopub.execute_input": "2023-04-02T02:53:24.864240Z",
     "iopub.status.busy": "2023-04-02T02:53:24.863807Z",
     "iopub.status.idle": "2023-04-02T02:53:24.871836Z",
     "shell.execute_reply": "2023-04-02T02:53:24.870628Z"
    },
    "papermill": {
     "duration": 0.01952,
     "end_time": "2023-04-02T02:53:24.874524",
     "exception": false,
     "start_time": "2023-04-02T02:53:24.855004",
     "status": "completed"
    },
    "tags": []
   },
   "outputs": [],
   "source": [
    "data.loc[data[\"LABEL\"] == \"negative\", \"LABEL\"] = 0\n",
    "data.loc[data[\"LABEL\"] == \"positive\", \"LABEL\"] = 1"
   ]
  },
  {
   "cell_type": "code",
   "execution_count": 7,
   "id": "da525a39",
   "metadata": {
    "execution": {
     "iopub.execute_input": "2023-04-02T02:53:24.892872Z",
     "iopub.status.busy": "2023-04-02T02:53:24.891993Z",
     "iopub.status.idle": "2023-04-02T02:53:24.901187Z",
     "shell.execute_reply": "2023-04-02T02:53:24.900216Z"
    },
    "papermill": {
     "duration": 0.021049,
     "end_time": "2023-04-02T02:53:24.903543",
     "exception": false,
     "start_time": "2023-04-02T02:53:24.882494",
     "status": "completed"
    },
    "tags": []
   },
   "outputs": [
    {
     "data": {
      "text/plain": [
       "1    1646\n",
       "0    1452\n",
       "Name: LABEL, dtype: int64"
      ]
     },
     "execution_count": 7,
     "metadata": {},
     "output_type": "execute_result"
    }
   ],
   "source": [
    "data['LABEL'].value_counts()"
   ]
  },
  {
   "cell_type": "code",
   "execution_count": 8,
   "id": "e770b580",
   "metadata": {
    "execution": {
     "iopub.execute_input": "2023-04-02T02:53:24.921388Z",
     "iopub.status.busy": "2023-04-02T02:53:24.920607Z",
     "iopub.status.idle": "2023-04-02T02:53:24.927399Z",
     "shell.execute_reply": "2023-04-02T02:53:24.926525Z"
    },
    "papermill": {
     "duration": 0.018395,
     "end_time": "2023-04-02T02:53:24.929764",
     "exception": false,
     "start_time": "2023-04-02T02:53:24.911369",
     "status": "completed"
    },
    "tags": []
   },
   "outputs": [],
   "source": [
    "data = data.astype({\"LABEL\": int})"
   ]
  },
  {
   "cell_type": "code",
   "execution_count": 9,
   "id": "738964e2",
   "metadata": {
    "execution": {
     "iopub.execute_input": "2023-04-02T02:53:24.947780Z",
     "iopub.status.busy": "2023-04-02T02:53:24.947070Z",
     "iopub.status.idle": "2023-04-02T02:53:25.340678Z",
     "shell.execute_reply": "2023-04-02T02:53:25.338881Z"
    },
    "papermill": {
     "duration": 0.408276,
     "end_time": "2023-04-02T02:53:25.346102",
     "exception": false,
     "start_time": "2023-04-02T02:53:24.937826",
     "status": "completed"
    },
    "tags": []
   },
   "outputs": [
    {
     "data": {
      "image/png": "[encoded data removed]",
      "text/plain": [
       "<Figure size 600x600 with 1 Axes>"
      ]
     },
     "metadata": {},
     "output_type": "display_data"
    }
   ],
   "source": [
    "data['LABEL'].value_counts().plot.pie(figsize=(6,6),title=\"Distribution of reviews per sentiment\",labels=['',''],autopct='%1.1f%%')\n",
    "labels=[\"Positive\",\"Negative\"]\n",
    "plt.legend(labels,loc=3)\n",
    "plt.gca().set_aspect('equal')"
   ]
  },
  {
   "cell_type": "markdown",
   "id": "e6f630c6",
   "metadata": {
    "papermill": {
     "duration": 0.009186,
     "end_time": "2023-04-02T02:53:25.366931",
     "exception": false,
     "start_time": "2023-04-02T02:53:25.357745",
     "status": "completed"
    },
    "tags": []
   },
   "source": [
    "# 2 Data Pre-Processing"
   ]
  },
  {
   "cell_type": "markdown",
   "id": "f13588ba",
   "metadata": {
    "papermill": {
     "duration": 0.008143,
     "end_time": "2023-04-02T02:53:25.384507",
     "exception": false,
     "start_time": "2023-04-02T02:53:25.376364",
     "status": "completed"
    },
    "tags": []
   },
   "source": [
    "## 2.1 Cleaning Data"
   ]
  },
  {
   "cell_type": "code",
   "execution_count": 10,
   "id": "2baba0b6",
   "metadata": {
    "execution": {
     "iopub.execute_input": "2023-04-02T02:53:25.403411Z",
     "iopub.status.busy": "2023-04-02T02:53:25.402894Z",
     "iopub.status.idle": "2023-04-02T02:53:25.495885Z",
     "shell.execute_reply": "2023-04-02T02:53:25.494547Z"
    },
    "papermill": {
     "duration": 0.105725,
     "end_time": "2023-04-02T02:53:25.498854",
     "exception": false,
     "start_time": "2023-04-02T02:53:25.393129",
     "status": "completed"
    },
    "tags": []
   },
   "outputs": [],
   "source": [
    "# Cleaning data\n",
    "def remove(tweet):\n",
    "  #remove mention\n",
    "  tweet = re.sub(\"@[A-Za-z0-9_]+\",\"\", tweet)\n",
    "  # remove stock market tickers like $GE\n",
    "  tweet = re.sub(r'\\$\\w*', '', tweet)\n",
    "  # remove old style retweet text \"RT\"\n",
    "  tweet = re.sub(r'^RT[\\s]+', '', tweet)\n",
    "  tweet = re.sub(r'^rt[\\s]+', '', tweet)\n",
    "  # remove hyperlinks\n",
    "  tweet = re.sub(r'https?:\\/\\/.*[\\r\\n]*', '', tweet)\n",
    "  tweet = re.sub(r'^https[\\s]+', '', tweet)\n",
    "  # remove hashtags\n",
    "  # only removing the hash # sign from the word\n",
    "  tweet = re.sub(r'#', '', tweet)\n",
    "  tweet = re.sub(r'%', '', tweet)\n",
    "  #remove coma\n",
    "  tweet = re.sub(r',','',tweet)\n",
    "  #remove angka\n",
    "  tweet = re.sub('[0-9]+', '', tweet)\n",
    "  tweet = re.sub(r':', '', tweet)\n",
    "  #remove space\n",
    "  tweet = tweet.strip()\n",
    "  #remove double space\n",
    "  tweet = re.sub('\\s+',' ',tweet)\n",
    "  return tweet\n",
    "  \n",
    "data['cleaning_data'] = data['Caption'].apply(lambda x: remove(x.lower()))"
   ]
  },
  {
   "cell_type": "code",
   "execution_count": 11,
   "id": "1c49ab92",
   "metadata": {
    "execution": {
     "iopub.execute_input": "2023-04-02T02:53:25.517799Z",
     "iopub.status.busy": "2023-04-02T02:53:25.517367Z",
     "iopub.status.idle": "2023-04-02T02:53:25.527857Z",
     "shell.execute_reply": "2023-04-02T02:53:25.526593Z"
    },
    "papermill": {
     "duration": 0.022887,
     "end_time": "2023-04-02T02:53:25.530196",
     "exception": false,
     "start_time": "2023-04-02T02:53:25.507309",
     "status": "completed"
    },
    "tags": []
   },
   "outputs": [],
   "source": [
    "data.drop_duplicates(subset =\"cleaning_data\", keep = 'first', inplace = True)"
   ]
  },
  {
   "cell_type": "markdown",
   "id": "13e0fdde",
   "metadata": {
    "papermill": {
     "duration": 0.00796,
     "end_time": "2023-04-02T02:53:25.546455",
     "exception": false,
     "start_time": "2023-04-02T02:53:25.538495",
     "status": "completed"
    },
    "tags": []
   },
   "source": [
    "## 2.2 Stopword Removal"
   ]
  },
  {
   "cell_type": "code",
   "execution_count": 12,
   "id": "a401b184",
   "metadata": {
    "execution": {
     "iopub.execute_input": "2023-04-02T02:53:25.565002Z",
     "iopub.status.busy": "2023-04-02T02:53:25.564576Z",
     "iopub.status.idle": "2023-04-02T02:53:25.569532Z",
     "shell.execute_reply": "2023-04-02T02:53:25.568347Z"
    },
    "papermill": {
     "duration": 0.016896,
     "end_time": "2023-04-02T02:53:25.571689",
     "exception": false,
     "start_time": "2023-04-02T02:53:25.554793",
     "status": "completed"
    },
    "tags": []
   },
   "outputs": [],
   "source": [
    "#nltk.download('stopwords')\n",
    "from nltk.corpus import stopwords"
   ]
  },
  {
   "cell_type": "code",
   "execution_count": 13,
   "id": "9d42ea15",
   "metadata": {
    "execution": {
     "iopub.execute_input": "2023-04-02T02:53:25.590154Z",
     "iopub.status.busy": "2023-04-02T02:53:25.589689Z",
     "iopub.status.idle": "2023-04-02T02:53:25.613239Z",
     "shell.execute_reply": "2023-04-02T02:53:25.612151Z"
    },
    "papermill": {
     "duration": 0.03633,
     "end_time": "2023-04-02T02:53:25.616113",
     "exception": false,
     "start_time": "2023-04-02T02:53:25.579783",
     "status": "completed"
    },
    "tags": []
   },
   "outputs": [],
   "source": [
    "#clean stopwords\n",
    "stopword = set(stopwords.words('english'))\n",
    "def clean_stopwords(text):\n",
    "    text = ' '.join(word for word in text.split() if word not in stopword) # hapus stopword dari kolom deskripsi\n",
    "    return text\n",
    "# Buat kolom tambahan untuk data description yang telah distopwordsremoval   \n",
    "data['tweet_sw'] = data['cleaning_data'].apply(clean_stopwords)"
   ]
  },
  {
   "cell_type": "markdown",
   "id": "8199c8ca",
   "metadata": {
    "papermill": {
     "duration": 0.008218,
     "end_time": "2023-04-02T02:53:25.632818",
     "exception": false,
     "start_time": "2023-04-02T02:53:25.624600",
     "status": "completed"
    },
    "tags": []
   },
   "source": [
    "## 2.3 Stemming"
   ]
  },
  {
   "cell_type": "code",
   "execution_count": 14,
   "id": "162a9b62",
   "metadata": {
    "execution": {
     "iopub.execute_input": "2023-04-02T02:53:25.652337Z",
     "iopub.status.busy": "2023-04-02T02:53:25.651473Z",
     "iopub.status.idle": "2023-04-02T02:53:26.318637Z",
     "shell.execute_reply": "2023-04-02T02:53:26.317672Z"
    },
    "papermill": {
     "duration": 0.679947,
     "end_time": "2023-04-02T02:53:26.321337",
     "exception": false,
     "start_time": "2023-04-02T02:53:25.641390",
     "status": "completed"
    },
    "tags": []
   },
   "outputs": [],
   "source": [
    "from nltk.stem import PorterStemmer\n",
    "ps = PorterStemmer()\n",
    "def porterstemmer(text):\n",
    "  text = ' '.join(ps.stem(word) for word in text.split() if word in text)\n",
    "  return text  \n",
    "data['tweet_stem'] = data['tweet_sw'].apply(porterstemmer)"
   ]
  },
  {
   "cell_type": "markdown",
   "id": "171c0b18",
   "metadata": {
    "papermill": {
     "duration": 0.00817,
     "end_time": "2023-04-02T02:53:26.337890",
     "exception": false,
     "start_time": "2023-04-02T02:53:26.329720",
     "status": "completed"
    },
    "tags": []
   },
   "source": [
    "## 2.4 Lemmazation"
   ]
  },
  {
   "cell_type": "code",
   "execution_count": 15,
   "id": "d22dee24",
   "metadata": {
    "execution": {
     "iopub.execute_input": "2023-04-02T02:53:26.357265Z",
     "iopub.status.busy": "2023-04-02T02:53:26.356497Z",
     "iopub.status.idle": "2023-04-02T02:53:41.540584Z",
     "shell.execute_reply": "2023-04-02T02:53:41.539580Z"
    },
    "papermill": {
     "duration": 15.196965,
     "end_time": "2023-04-02T02:53:41.543472",
     "exception": false,
     "start_time": "2023-04-02T02:53:26.346507",
     "status": "completed"
    },
    "tags": []
   },
   "outputs": [],
   "source": [
    "import spacy\n",
    "nlp = spacy.load('en_core_web_sm')"
   ]
  },
  {
   "cell_type": "code",
   "execution_count": 16,
   "id": "2d7b4fed",
   "metadata": {
    "execution": {
     "iopub.execute_input": "2023-04-02T02:53:41.563190Z",
     "iopub.status.busy": "2023-04-02T02:53:41.562080Z",
     "iopub.status.idle": "2023-04-02T02:54:04.067887Z",
     "shell.execute_reply": "2023-04-02T02:54:04.066738Z"
    },
    "papermill": {
     "duration": 22.518842,
     "end_time": "2023-04-02T02:54:04.070747",
     "exception": false,
     "start_time": "2023-04-02T02:53:41.551905",
     "status": "completed"
    },
    "tags": []
   },
   "outputs": [],
   "source": [
    "def lemmatization (text):\n",
    "    doc = nlp(text)\n",
    "    tokens = [token.lemma_.lower() for token in doc if not token.is_stop and not token.is_punct]\n",
    "    return ' '.join(tokens)\n",
    "data['tweet_clean'] = data['tweet_stem'].apply(lemmatization)"
   ]
  },
  {
   "cell_type": "markdown",
   "id": "aae7cbef",
   "metadata": {
    "papermill": {
     "duration": 0.008256,
     "end_time": "2023-04-02T02:54:04.087868",
     "exception": false,
     "start_time": "2023-04-02T02:54:04.079612",
     "status": "completed"
    },
    "tags": []
   },
   "source": [
    "## 2.5 Data Final"
   ]
  },
  {
   "cell_type": "code",
   "execution_count": 17,
   "id": "df56472e",
   "metadata": {
    "execution": {
     "iopub.execute_input": "2023-04-02T02:54:04.107412Z",
     "iopub.status.busy": "2023-04-02T02:54:04.106653Z",
     "iopub.status.idle": "2023-04-02T02:54:04.126397Z",
     "shell.execute_reply": "2023-04-02T02:54:04.125107Z"
    },
    "papermill": {
     "duration": 0.032712,
     "end_time": "2023-04-02T02:54:04.129085",
     "exception": false,
     "start_time": "2023-04-02T02:54:04.096373",
     "status": "completed"
    },
    "tags": []
   },
   "outputs": [
    {
     "data": {
      "text/html": [
       "<div>\n",
       "<style scoped>\n",
       "    .dataframe tbody tr th:only-of-type {\n",
       "        vertical-align: middle;\n",
       "    }\n",
       "\n",
       "    .dataframe tbody tr th {\n",
       "        vertical-align: top;\n",
       "    }\n",
       "\n",
       "    .dataframe thead th {\n",
       "        text-align: right;\n",
       "    }\n",
       "</style>\n",
       "<table border=\"1\" class=\"dataframe\">\n",
       "  <thead>\n",
       "    <tr style=\"text-align: right;\">\n",
       "      <th></th>\n",
       "      <th>File Name</th>\n",
       "      <th>Caption</th>\n",
       "      <th>LABEL</th>\n",
       "      <th>cleaning_data</th>\n",
       "      <th>tweet_sw</th>\n",
       "      <th>tweet_stem</th>\n",
       "      <th>tweet_clean</th>\n",
       "    </tr>\n",
       "  </thead>\n",
       "  <tbody>\n",
       "    <tr>\n",
       "      <th>0</th>\n",
       "      <td>1.txt</td>\n",
       "      <td>How I feel today #legday #jelly #aching #gym</td>\n",
       "      <td>0</td>\n",
       "      <td>how i feel today legday jelly aching gym</td>\n",
       "      <td>feel today legday jelly aching gym</td>\n",
       "      <td>feel today legday jelli ach gym</td>\n",
       "      <td>feel today legday jelli ach gym</td>\n",
       "    </tr>\n",
       "    <tr>\n",
       "      <th>1</th>\n",
       "      <td>10.txt</td>\n",
       "      <td>@ArrivaTW absolute disgrace two carriages from...</td>\n",
       "      <td>0</td>\n",
       "      <td>absolute disgrace two carriages from bangor ha...</td>\n",
       "      <td>absolute disgrace two carriages bangor half wa...</td>\n",
       "      <td>absolut disgrac two carriag bangor half way st...</td>\n",
       "      <td>absolut disgrac carriag bangor half way stand ...</td>\n",
       "    </tr>\n",
       "    <tr>\n",
       "      <th>2</th>\n",
       "      <td>100.txt</td>\n",
       "      <td>This is my Valentine's from 1 of my nephews. I...</td>\n",
       "      <td>1</td>\n",
       "      <td>this is my valentine's from of my nephews. i a...</td>\n",
       "      <td>valentine's nephews. elated; sometimes little ...</td>\n",
       "      <td>valentine' nephews. elated; sometim littl thin...</td>\n",
       "      <td>valentine nephew elated sometim littl thing bi...</td>\n",
       "    </tr>\n",
       "    <tr>\n",
       "      <th>4</th>\n",
       "      <td>1001.txt</td>\n",
       "      <td>Zoe's first love #Rattled @JohnnyHarper15</td>\n",
       "      <td>1</td>\n",
       "      <td>zoe's first love rattled</td>\n",
       "      <td>zoe's first love rattled</td>\n",
       "      <td>zoe' first love rattl</td>\n",
       "      <td>zoe love rattl</td>\n",
       "    </tr>\n",
       "    <tr>\n",
       "      <th>5</th>\n",
       "      <td>1002.txt</td>\n",
       "      <td>Chaotic Love - giclee print ?65 at #art #love ...</td>\n",
       "      <td>1</td>\n",
       "      <td>chaotic love - giclee print ? at art love chao...</td>\n",
       "      <td>chaotic love - giclee print ? art love chaotic...</td>\n",
       "      <td>chaotic love - gicle print ? art love chaotic ...</td>\n",
       "      <td>chaotic love gicle print art love chaotic abst...</td>\n",
       "    </tr>\n",
       "    <tr>\n",
       "      <th>...</th>\n",
       "      <td>...</td>\n",
       "      <td>...</td>\n",
       "      <td>...</td>\n",
       "      <td>...</td>\n",
       "      <td>...</td>\n",
       "      <td>...</td>\n",
       "      <td>...</td>\n",
       "    </tr>\n",
       "    <tr>\n",
       "      <th>4856</th>\n",
       "      <td>988.txt</td>\n",
       "      <td>RT @bishopcarrollhs: Great @bishopcarrollhs st...</td>\n",
       "      <td>1</td>\n",
       "      <td>great students caring empowerbchs</td>\n",
       "      <td>great students caring empowerbchs</td>\n",
       "      <td>great student care empowerbch</td>\n",
       "      <td>great student care empowerbch</td>\n",
       "    </tr>\n",
       "    <tr>\n",
       "      <th>4857</th>\n",
       "      <td>989.txt</td>\n",
       "      <td>Big thank you to all of the teachers who atten...</td>\n",
       "      <td>1</td>\n",
       "      <td>big thank you to all of the teachers who atten...</td>\n",
       "      <td>big thank teachers attended isabcpd¡ªso nice m...</td>\n",
       "      <td>big thank teacher attend isabcpd¡ªso nice meet...</td>\n",
       "      <td>big thank teacher attend isabcpd¡ªso nice meet...</td>\n",
       "    </tr>\n",
       "    <tr>\n",
       "      <th>4858</th>\n",
       "      <td>99.txt</td>\n",
       "      <td>@__Dave24 looks so elated ?</td>\n",
       "      <td>1</td>\n",
       "      <td>looks so elated ?</td>\n",
       "      <td>looks elated ?</td>\n",
       "      <td>look elat ?</td>\n",
       "      <td>look elat</td>\n",
       "    </tr>\n",
       "    <tr>\n",
       "      <th>4861</th>\n",
       "      <td>992.txt</td>\n",
       "      <td>RT @headquarters: To be fair, everything makes...</td>\n",
       "      <td>0</td>\n",
       "      <td>to be fair everything makes me want to scream....</td>\n",
       "      <td>fair everything makes want scream. anger</td>\n",
       "      <td>fair everyth make want scream. anger</td>\n",
       "      <td>fair everyth want scream anger</td>\n",
       "    </tr>\n",
       "    <tr>\n",
       "      <th>4865</th>\n",
       "      <td>996.txt</td>\n",
       "      <td>Feelin' the love in here! #ValentinesDay #caring</td>\n",
       "      <td>1</td>\n",
       "      <td>feelin' the love in here! valentinesday caring</td>\n",
       "      <td>feelin' love here! valentinesday caring</td>\n",
       "      <td>feelin' love here! valentinesday care</td>\n",
       "      <td>feelin love valentinesday care</td>\n",
       "    </tr>\n",
       "  </tbody>\n",
       "</table>\n",
       "<p>2897 rows × 7 columns</p>\n",
       "</div>"
      ],
      "text/plain": [
       "     File Name                                            Caption  LABEL  \\\n",
       "0        1.txt      How I feel today #legday #jelly #aching #gym       0   \n",
       "1       10.txt  @ArrivaTW absolute disgrace two carriages from...      0   \n",
       "2      100.txt  This is my Valentine's from 1 of my nephews. I...      1   \n",
       "4     1001.txt         Zoe's first love #Rattled @JohnnyHarper15       1   \n",
       "5     1002.txt  Chaotic Love - giclee print ?65 at #art #love ...      1   \n",
       "...        ...                                                ...    ...   \n",
       "4856   988.txt  RT @bishopcarrollhs: Great @bishopcarrollhs st...      1   \n",
       "4857   989.txt  Big thank you to all of the teachers who atten...      1   \n",
       "4858    99.txt                       @__Dave24 looks so elated ?       1   \n",
       "4861   992.txt  RT @headquarters: To be fair, everything makes...      0   \n",
       "4865   996.txt  Feelin' the love in here! #ValentinesDay #caring       1   \n",
       "\n",
       "                                          cleaning_data  \\\n",
       "0              how i feel today legday jelly aching gym   \n",
       "1     absolute disgrace two carriages from bangor ha...   \n",
       "2     this is my valentine's from of my nephews. i a...   \n",
       "4                              zoe's first love rattled   \n",
       "5     chaotic love - giclee print ? at art love chao...   \n",
       "...                                                 ...   \n",
       "4856                  great students caring empowerbchs   \n",
       "4857  big thank you to all of the teachers who atten...   \n",
       "4858                                  looks so elated ?   \n",
       "4861  to be fair everything makes me want to scream....   \n",
       "4865     feelin' the love in here! valentinesday caring   \n",
       "\n",
       "                                               tweet_sw  \\\n",
       "0                    feel today legday jelly aching gym   \n",
       "1     absolute disgrace two carriages bangor half wa...   \n",
       "2     valentine's nephews. elated; sometimes little ...   \n",
       "4                              zoe's first love rattled   \n",
       "5     chaotic love - giclee print ? art love chaotic...   \n",
       "...                                                 ...   \n",
       "4856                  great students caring empowerbchs   \n",
       "4857  big thank teachers attended isabcpd¡ªso nice m...   \n",
       "4858                                     looks elated ?   \n",
       "4861           fair everything makes want scream. anger   \n",
       "4865            feelin' love here! valentinesday caring   \n",
       "\n",
       "                                             tweet_stem  \\\n",
       "0                       feel today legday jelli ach gym   \n",
       "1     absolut disgrac two carriag bangor half way st...   \n",
       "2     valentine' nephews. elated; sometim littl thin...   \n",
       "4                                 zoe' first love rattl   \n",
       "5     chaotic love - gicle print ? art love chaotic ...   \n",
       "...                                                 ...   \n",
       "4856                      great student care empowerbch   \n",
       "4857  big thank teacher attend isabcpd¡ªso nice meet...   \n",
       "4858                                        look elat ?   \n",
       "4861               fair everyth make want scream. anger   \n",
       "4865              feelin' love here! valentinesday care   \n",
       "\n",
       "                                            tweet_clean  \n",
       "0                       feel today legday jelli ach gym  \n",
       "1     absolut disgrac carriag bangor half way stand ...  \n",
       "2     valentine nephew elated sometim littl thing bi...  \n",
       "4                                        zoe love rattl  \n",
       "5     chaotic love gicle print art love chaotic abst...  \n",
       "...                                                 ...  \n",
       "4856                      great student care empowerbch  \n",
       "4857  big thank teacher attend isabcpd¡ªso nice meet...  \n",
       "4858                                          look elat  \n",
       "4861                     fair everyth want scream anger  \n",
       "4865                     feelin love valentinesday care  \n",
       "\n",
       "[2897 rows x 7 columns]"
      ]
     },
     "execution_count": 17,
     "metadata": {},
     "output_type": "execute_result"
    }
   ],
   "source": [
    "data"
   ]
  },
  {
   "cell_type": "markdown",
   "id": "0011b9c6",
   "metadata": {
    "papermill": {
     "duration": 0.008561,
     "end_time": "2023-04-02T02:54:04.146736",
     "exception": false,
     "start_time": "2023-04-02T02:54:04.138175",
     "status": "completed"
    },
    "tags": []
   },
   "source": [
    "# 3 TF-IDF"
   ]
  },
  {
   "cell_type": "code",
   "execution_count": 18,
   "id": "c06495e4",
   "metadata": {
    "execution": {
     "iopub.execute_input": "2023-04-02T02:54:04.166949Z",
     "iopub.status.busy": "2023-04-02T02:54:04.166260Z",
     "iopub.status.idle": "2023-04-02T02:54:04.254638Z",
     "shell.execute_reply": "2023-04-02T02:54:04.253317Z"
    },
    "papermill": {
     "duration": 0.101546,
     "end_time": "2023-04-02T02:54:04.257329",
     "exception": false,
     "start_time": "2023-04-02T02:54:04.155783",
     "status": "completed"
    },
    "tags": []
   },
   "outputs": [
    {
     "name": "stdout",
     "output_type": "stream",
     "text": [
      "  (0, 7105)\t0.2746654615786262\n",
      "  (0, 4026)\t0.5084683581165743\n",
      "  (0, 3683)\t0.4835649376070032\n",
      "  (0, 3057)\t0.42332300100780396\n",
      "  (0, 2492)\t0.2918814379186445\n",
      "  (0, 43)\t0.40961765970653863\n",
      "  (1, 7578)\t0.27223986807082534\n",
      "  (1, 6585)\t0.2853452821918143\n",
      "  (1, 5912)\t0.2853452821918143\n",
      "  (1, 3082)\t0.29551063112537024\n",
      "  (1, 1902)\t0.5491530886300393\n",
      "  (1, 1113)\t0.37713459069057\n",
      "  (1, 557)\t0.37713459069057\n",
      "  (1, 23)\t0.29947445173806314\n",
      "  (2, 7406)\t0.2715609279324852\n",
      "  (2, 7018)\t0.5674724051355987\n",
      "  (2, 6451)\t0.3631145644178158\n",
      "  (2, 4774)\t0.37412012693369345\n",
      "  (2, 4113)\t0.27312679117182587\n",
      "  (2, 2935)\t0.23021407179641162\n",
      "  (2, 2155)\t0.3541223650937916\n",
      "  (2, 711)\t0.2818018154524938\n",
      "  (3, 7875)\t0.6728302574386448\n",
      "  (3, 5671)\t0.6728302574386448\n",
      "  (3, 4175)\t0.30756932446213503\n",
      "  :\t:\n",
      "  (2892, 6694)\t0.5155826343543867\n",
      "  (2892, 2984)\t0.40463894466936257\n",
      "  (2892, 2205)\t0.6400052569789346\n",
      "  (2892, 1097)\t0.4010425696212102\n",
      "  (2893, 7886)\t0.3827458768647352\n",
      "  (2893, 6974)\t0.22706567859873406\n",
      "  (2893, 6909)\t0.32482688276303595\n",
      "  (2893, 5178)\t0.23301204621558733\n",
      "  (2893, 4809)\t0.2838041914718013\n",
      "  (2893, 4389)\t0.25754458374770905\n",
      "  (2893, 3617)\t0.3827458768647352\n",
      "  (2893, 2137)\t0.3827458768647352\n",
      "  (2893, 711)\t0.2641605654834455\n",
      "  (2893, 434)\t0.36400000729838994\n",
      "  (2894, 4156)\t0.59271229260004\n",
      "  (2894, 2153)\t0.8054142649598434\n",
      "  (2895, 7550)\t0.3669087470534184\n",
      "  (2895, 6104)\t0.46186918816785466\n",
      "  (2895, 2410)\t0.5275965270662638\n",
      "  (2895, 2321)\t0.46186918816785466\n",
      "  (2895, 267)\t0.4004667052398257\n",
      "  (2896, 7409)\t0.5289720354786623\n",
      "  (2896, 4175)\t0.3161101439052066\n",
      "  (2896, 2494)\t0.6576454181842695\n",
      "  (2896, 1097)\t0.43331912782962584\n"
     ]
    }
   ],
   "source": [
    "from sklearn.feature_extraction.text import TfidfVectorizer\n",
    "vectorizer = TfidfVectorizer()\n",
    "vectorizer.fit(data['tweet_clean'])\n",
    "vector = vectorizer.transform(data['tweet_clean'])\n",
    "print(vector)"
   ]
  },
  {
   "cell_type": "markdown",
   "id": "3aa9e21f",
   "metadata": {
    "papermill": {
     "duration": 0.008487,
     "end_time": "2023-04-02T02:54:04.274593",
     "exception": false,
     "start_time": "2023-04-02T02:54:04.266106",
     "status": "completed"
    },
    "tags": []
   },
   "source": [
    "# 4 Split Dataset"
   ]
  },
  {
   "cell_type": "code",
   "execution_count": 19,
   "id": "b2cee38c",
   "metadata": {
    "execution": {
     "iopub.execute_input": "2023-04-02T02:54:04.294297Z",
     "iopub.status.busy": "2023-04-02T02:54:04.293591Z",
     "iopub.status.idle": "2023-04-02T02:54:04.302064Z",
     "shell.execute_reply": "2023-04-02T02:54:04.301183Z"
    },
    "papermill": {
     "duration": 0.021126,
     "end_time": "2023-04-02T02:54:04.304393",
     "exception": false,
     "start_time": "2023-04-02T02:54:04.283267",
     "status": "completed"
    },
    "tags": []
   },
   "outputs": [],
   "source": [
    "from sklearn.model_selection import train_test_split\n",
    "X = data['tweet_clean']\n",
    "y = data['LABEL']\n",
    "\n",
    "X_train, X_test, y_train, y_test = train_test_split(vector,y,test_size = 0.2)"
   ]
  },
  {
   "cell_type": "markdown",
   "id": "c8b8a55d",
   "metadata": {
    "papermill": {
     "duration": 0.008384,
     "end_time": "2023-04-02T02:54:04.321683",
     "exception": false,
     "start_time": "2023-04-02T02:54:04.313299",
     "status": "completed"
    },
    "tags": []
   },
   "source": [
    "# 5 Model Random Forest"
   ]
  },
  {
   "cell_type": "code",
   "execution_count": 20,
   "id": "d666a816",
   "metadata": {
    "execution": {
     "iopub.execute_input": "2023-04-02T02:54:04.342318Z",
     "iopub.status.busy": "2023-04-02T02:54:04.341560Z",
     "iopub.status.idle": "2023-04-02T02:54:10.867004Z",
     "shell.execute_reply": "2023-04-02T02:54:10.865577Z"
    },
    "papermill": {
     "duration": 6.539205,
     "end_time": "2023-04-02T02:54:10.869914",
     "exception": false,
     "start_time": "2023-04-02T02:54:04.330709",
     "status": "completed"
    },
    "tags": []
   },
   "outputs": [
    {
     "data": {
      "text/plain": [
       "RandomForestClassifier(n_estimators=200, random_state=0)"
      ]
     },
     "execution_count": 20,
     "metadata": {},
     "output_type": "execute_result"
    }
   ],
   "source": [
    "from sklearn.ensemble import RandomForestClassifier\n",
    "\n",
    "model = RandomForestClassifier(n_estimators=200, random_state=0)\n",
    "model.fit(X_train, y_train)"
   ]
  },
  {
   "cell_type": "code",
   "execution_count": 21,
   "id": "44436976",
   "metadata": {
    "execution": {
     "iopub.execute_input": "2023-04-02T02:54:10.890931Z",
     "iopub.status.busy": "2023-04-02T02:54:10.890220Z",
     "iopub.status.idle": "2023-04-02T02:54:11.020981Z",
     "shell.execute_reply": "2023-04-02T02:54:11.019455Z"
    },
    "papermill": {
     "duration": 0.144932,
     "end_time": "2023-04-02T02:54:11.024099",
     "exception": false,
     "start_time": "2023-04-02T02:54:10.879167",
     "status": "completed"
    },
    "tags": []
   },
   "outputs": [],
   "source": [
    "predictions = model.predict(X_test)"
   ]
  },
  {
   "cell_type": "markdown",
   "id": "3ae3f085",
   "metadata": {
    "papermill": {
     "duration": 0.008932,
     "end_time": "2023-04-02T02:54:11.042581",
     "exception": false,
     "start_time": "2023-04-02T02:54:11.033649",
     "status": "completed"
    },
    "tags": []
   },
   "source": [
    "# 6 Evaluation Model"
   ]
  },
  {
   "cell_type": "code",
   "execution_count": 22,
   "id": "60d45162",
   "metadata": {
    "execution": {
     "iopub.execute_input": "2023-04-02T02:54:11.064323Z",
     "iopub.status.busy": "2023-04-02T02:54:11.063571Z",
     "iopub.status.idle": "2023-04-02T02:54:11.078909Z",
     "shell.execute_reply": "2023-04-02T02:54:11.076802Z"
    },
    "papermill": {
     "duration": 0.029619,
     "end_time": "2023-04-02T02:54:11.081927",
     "exception": false,
     "start_time": "2023-04-02T02:54:11.052308",
     "status": "completed"
    },
    "tags": []
   },
   "outputs": [
    {
     "name": "stdout",
     "output_type": "stream",
     "text": [
      "Accuracy Score Testing :\n",
      "0.846551724137931\n",
      "Confusion Matrix : \n",
      "[[256  19]\n",
      " [ 70 235]]\n",
      "Classification Report : \n",
      "              precision    recall  f1-score   support\n",
      "\n",
      "           0       0.79      0.93      0.85       275\n",
      "           1       0.93      0.77      0.84       305\n",
      "\n",
      "    accuracy                           0.85       580\n",
      "   macro avg       0.86      0.85      0.85       580\n",
      "weighted avg       0.86      0.85      0.85       580\n",
      "\n"
     ]
    }
   ],
   "source": [
    "from sklearn.metrics import classification_report, confusion_matrix, accuracy_score\n",
    "\n",
    "\n",
    "print(\"Accuracy Score Testing :\")\n",
    "print(accuracy_score(y_test, predictions))\n",
    "\n",
    "print(\"Confusion Matrix : \")\n",
    "print(confusion_matrix(y_test,predictions))\n",
    "\n",
    "print(\"Classification Report : \")\n",
    "print(classification_report(y_test,predictions))"
   ]
  }
 ],
 "metadata": {
  "kernelspec": {
   "display_name": "Python 3",
   "language": "python",
   "name": "python3"
  },
  "language_info": {
   "codemirror_mode": {
    "name": "ipython",
    "version": 3
   },
   "file_extension": ".py",
   "mimetype": "text/x-python",
   "name": "python",
   "nbconvert_exporter": "python",
   "pygments_lexer": "ipython3",
   "version": "3.7.12"
  },
  "papermill": {
   "default_parameters": {},
   "duration": 62.84625,
   "end_time": "2023-04-02T02:54:14.054183",
   "environment_variables": {},
   "exception": null,
   "input_path": "__notebook__.ipynb",
   "output_path": "__notebook__.ipynb",
   "parameters": {},
   "start_time": "2023-04-02T02:53:11.207933",
   "version": "2.4.0"
  }
 },
 "nbformat": 4,
 "nbformat_minor": 5
}
